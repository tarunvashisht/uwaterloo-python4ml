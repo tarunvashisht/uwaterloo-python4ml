{
 "cells": [
  {
   "cell_type": "markdown",
   "metadata": {},
   "source": [
    "# Module 4: Exercise A"
   ]
  },
  {
   "cell_type": "code",
   "execution_count": 28,
   "metadata": {
    "id": "Kowxe0aIoLs1"
   },
   "outputs": [],
   "source": [
    "import pandas as pd\n",
    "import numpy as np"
   ]
  },
  {
   "cell_type": "markdown",
   "metadata": {},
   "source": [
    "Let's import and explore the data file \"hc_train.csv\":"
   ]
  },
  {
   "cell_type": "code",
   "execution_count": 29,
   "metadata": {
    "colab": {
     "base_uri": "https://localhost:8080/"
    },
    "id": "EeYJlpoKoYD6",
    "outputId": "c0b198cb-de26-485d-a627-02af9604d3aa"
   },
   "outputs": [
    {
     "name": "stdout",
     "output_type": "stream",
     "text": [
      "<class 'pandas.core.frame.DataFrame'>\n",
      "RangeIndex: 51238 entries, 0 to 51237\n",
      "Data columns (total 19 columns):\n",
      " #   Column                             Non-Null Count  Dtype  \n",
      "---  ------                             --------------  -----  \n",
      " 0   Unnamed: 0                         51238 non-null  int64  \n",
      " 1   case_id                            51238 non-null  int64  \n",
      " 2   Hospital_code                      51238 non-null  int64  \n",
      " 3   Hospital_type_code                 51238 non-null  object \n",
      " 4   City_Code_Hospital                 51238 non-null  int64  \n",
      " 5   Hospital_region_code               51238 non-null  object \n",
      " 6   Available Extra Rooms in Hospital  51238 non-null  int64  \n",
      " 7   Department                         51238 non-null  object \n",
      " 8   Ward_Type                          51238 non-null  object \n",
      " 9   Ward_Facility_Code                 51238 non-null  object \n",
      " 10  Bed Grade                          51214 non-null  float64\n",
      " 11  patientid                          51238 non-null  int64  \n",
      " 12  City_Code_Patient                  50488 non-null  float64\n",
      " 13  Type of Admission                  51238 non-null  object \n",
      " 14  Severity of Illness                51238 non-null  object \n",
      " 15  Visitors with Patient              51238 non-null  int64  \n",
      " 16  Age                                51238 non-null  object \n",
      " 17  Admission_Deposit                  51238 non-null  float64\n",
      " 18  Stay                               51238 non-null  object \n",
      "dtypes: float64(3), int64(7), object(9)\n",
      "memory usage: 7.4+ MB\n"
     ]
    }
   ],
   "source": [
    "hc = pd.read_csv('./raw/hc_train.csv')\n",
    "hc.info()"
   ]
  },
  {
   "cell_type": "code",
   "execution_count": 30,
   "metadata": {},
   "outputs": [
    {
     "data": {
      "text/plain": [
       "(51238, 19)"
      ]
     },
     "execution_count": 30,
     "metadata": {},
     "output_type": "execute_result"
    }
   ],
   "source": [
    "hc.shape"
   ]
  },
  {
   "cell_type": "code",
   "execution_count": 31,
   "metadata": {},
   "outputs": [
    {
     "data": {
      "text/plain": [
       "Unnamed: 0                             0\n",
       "case_id                                0\n",
       "Hospital_code                          0\n",
       "Hospital_type_code                     0\n",
       "City_Code_Hospital                     0\n",
       "Hospital_region_code                   0\n",
       "Available Extra Rooms in Hospital      0\n",
       "Department                             0\n",
       "Ward_Type                              0\n",
       "Ward_Facility_Code                     0\n",
       "Bed Grade                             24\n",
       "patientid                              0\n",
       "City_Code_Patient                    750\n",
       "Type of Admission                      0\n",
       "Severity of Illness                    0\n",
       "Visitors with Patient                  0\n",
       "Age                                    0\n",
       "Admission_Deposit                      0\n",
       "Stay                                   0\n",
       "dtype: int64"
      ]
     },
     "execution_count": 31,
     "metadata": {},
     "output_type": "execute_result"
    }
   ],
   "source": [
    "hc.isna().sum()"
   ]
  },
  {
   "cell_type": "markdown",
   "metadata": {},
   "source": [
    "## A Closer Look into Data\n",
    "\n",
    "Before starting our analysis, it is important to know the data columns and the actual content. We can print the first 5 rows with `.head()` method:"
   ]
  },
  {
   "cell_type": "code",
   "execution_count": 32,
   "metadata": {},
   "outputs": [
    {
     "data": {
      "text/html": [
       "<div>\n",
       "<style scoped>\n",
       "    .dataframe tbody tr th:only-of-type {\n",
       "        vertical-align: middle;\n",
       "    }\n",
       "\n",
       "    .dataframe tbody tr th {\n",
       "        vertical-align: top;\n",
       "    }\n",
       "\n",
       "    .dataframe thead th {\n",
       "        text-align: right;\n",
       "    }\n",
       "</style>\n",
       "<table border=\"1\" class=\"dataframe\">\n",
       "  <thead>\n",
       "    <tr style=\"text-align: right;\">\n",
       "      <th></th>\n",
       "      <th>Unnamed: 0</th>\n",
       "      <th>case_id</th>\n",
       "      <th>Hospital_code</th>\n",
       "      <th>Hospital_type_code</th>\n",
       "      <th>City_Code_Hospital</th>\n",
       "      <th>Hospital_region_code</th>\n",
       "      <th>Available Extra Rooms in Hospital</th>\n",
       "      <th>Department</th>\n",
       "      <th>Ward_Type</th>\n",
       "      <th>Ward_Facility_Code</th>\n",
       "      <th>Bed Grade</th>\n",
       "      <th>patientid</th>\n",
       "      <th>City_Code_Patient</th>\n",
       "      <th>Type of Admission</th>\n",
       "      <th>Severity of Illness</th>\n",
       "      <th>Visitors with Patient</th>\n",
       "      <th>Age</th>\n",
       "      <th>Admission_Deposit</th>\n",
       "      <th>Stay</th>\n",
       "    </tr>\n",
       "  </thead>\n",
       "  <tbody>\n",
       "    <tr>\n",
       "      <th>0</th>\n",
       "      <td>119967</td>\n",
       "      <td>119968</td>\n",
       "      <td>27</td>\n",
       "      <td>a</td>\n",
       "      <td>7</td>\n",
       "      <td>Y</td>\n",
       "      <td>3</td>\n",
       "      <td>gynecology</td>\n",
       "      <td>R</td>\n",
       "      <td>C</td>\n",
       "      <td>2.0</td>\n",
       "      <td>11389</td>\n",
       "      <td>8.0</td>\n",
       "      <td>Emergency</td>\n",
       "      <td>Minor</td>\n",
       "      <td>2</td>\n",
       "      <td>11-20</td>\n",
       "      <td>5072.0</td>\n",
       "      <td>21-30</td>\n",
       "    </tr>\n",
       "    <tr>\n",
       "      <th>1</th>\n",
       "      <td>92433</td>\n",
       "      <td>92434</td>\n",
       "      <td>6</td>\n",
       "      <td>a</td>\n",
       "      <td>6</td>\n",
       "      <td>X</td>\n",
       "      <td>4</td>\n",
       "      <td>gynecology</td>\n",
       "      <td>Q</td>\n",
       "      <td>F</td>\n",
       "      <td>1.0</td>\n",
       "      <td>12522</td>\n",
       "      <td>2.0</td>\n",
       "      <td>Emergency</td>\n",
       "      <td>Extreme</td>\n",
       "      <td>4</td>\n",
       "      <td>31-40</td>\n",
       "      <td>3585.0</td>\n",
       "      <td>21-30</td>\n",
       "    </tr>\n",
       "    <tr>\n",
       "      <th>2</th>\n",
       "      <td>132258</td>\n",
       "      <td>132259</td>\n",
       "      <td>16</td>\n",
       "      <td>c</td>\n",
       "      <td>3</td>\n",
       "      <td>Z</td>\n",
       "      <td>4</td>\n",
       "      <td>gynecology</td>\n",
       "      <td>S</td>\n",
       "      <td>A</td>\n",
       "      <td>3.0</td>\n",
       "      <td>119556</td>\n",
       "      <td>8.0</td>\n",
       "      <td>Trauma</td>\n",
       "      <td>Moderate</td>\n",
       "      <td>6</td>\n",
       "      <td>71-80</td>\n",
       "      <td>4013.0</td>\n",
       "      <td>More than 100 Days</td>\n",
       "    </tr>\n",
       "    <tr>\n",
       "      <th>3</th>\n",
       "      <td>168439</td>\n",
       "      <td>168440</td>\n",
       "      <td>23</td>\n",
       "      <td>a</td>\n",
       "      <td>6</td>\n",
       "      <td>X</td>\n",
       "      <td>2</td>\n",
       "      <td>anesthesia</td>\n",
       "      <td>S</td>\n",
       "      <td>F</td>\n",
       "      <td>3.0</td>\n",
       "      <td>107177</td>\n",
       "      <td>8.0</td>\n",
       "      <td>Urgent</td>\n",
       "      <td>Extreme</td>\n",
       "      <td>2</td>\n",
       "      <td>71-80</td>\n",
       "      <td>5160.0</td>\n",
       "      <td>21-30</td>\n",
       "    </tr>\n",
       "    <tr>\n",
       "      <th>4</th>\n",
       "      <td>82100</td>\n",
       "      <td>82101</td>\n",
       "      <td>25</td>\n",
       "      <td>e</td>\n",
       "      <td>1</td>\n",
       "      <td>X</td>\n",
       "      <td>3</td>\n",
       "      <td>gynecology</td>\n",
       "      <td>R</td>\n",
       "      <td>E</td>\n",
       "      <td>3.0</td>\n",
       "      <td>64508</td>\n",
       "      <td>13.0</td>\n",
       "      <td>Trauma</td>\n",
       "      <td>Moderate</td>\n",
       "      <td>3</td>\n",
       "      <td>61-70</td>\n",
       "      <td>4099.0</td>\n",
       "      <td>21-30</td>\n",
       "    </tr>\n",
       "  </tbody>\n",
       "</table>\n",
       "</div>"
      ],
      "text/plain": [
       "   Unnamed: 0  case_id  Hospital_code Hospital_type_code  City_Code_Hospital  \\\n",
       "0      119967   119968             27                  a                   7   \n",
       "1       92433    92434              6                  a                   6   \n",
       "2      132258   132259             16                  c                   3   \n",
       "3      168439   168440             23                  a                   6   \n",
       "4       82100    82101             25                  e                   1   \n",
       "\n",
       "  Hospital_region_code  Available Extra Rooms in Hospital  Department  \\\n",
       "0                    Y                                  3  gynecology   \n",
       "1                    X                                  4  gynecology   \n",
       "2                    Z                                  4  gynecology   \n",
       "3                    X                                  2  anesthesia   \n",
       "4                    X                                  3  gynecology   \n",
       "\n",
       "  Ward_Type Ward_Facility_Code  Bed Grade  patientid  City_Code_Patient  \\\n",
       "0         R                  C        2.0      11389                8.0   \n",
       "1         Q                  F        1.0      12522                2.0   \n",
       "2         S                  A        3.0     119556                8.0   \n",
       "3         S                  F        3.0     107177                8.0   \n",
       "4         R                  E        3.0      64508               13.0   \n",
       "\n",
       "  Type of Admission Severity of Illness  Visitors with Patient    Age  \\\n",
       "0         Emergency               Minor                      2  11-20   \n",
       "1         Emergency             Extreme                      4  31-40   \n",
       "2            Trauma            Moderate                      6  71-80   \n",
       "3            Urgent             Extreme                      2  71-80   \n",
       "4            Trauma            Moderate                      3  61-70   \n",
       "\n",
       "   Admission_Deposit                Stay  \n",
       "0             5072.0               21-30  \n",
       "1             3585.0               21-30  \n",
       "2             4013.0  More than 100 Days  \n",
       "3             5160.0               21-30  \n",
       "4             4099.0               21-30  "
      ]
     },
     "execution_count": 32,
     "metadata": {},
     "output_type": "execute_result"
    }
   ],
   "source": [
    "hc.head()"
   ]
  },
  {
   "cell_type": "code",
   "execution_count": 33,
   "metadata": {},
   "outputs": [
    {
     "data": {
      "text/plain": [
       "(32,)"
      ]
     },
     "execution_count": 33,
     "metadata": {},
     "output_type": "execute_result"
    }
   ],
   "source": [
    "hc['Hospital_code'].unique().shape"
   ]
  },
  {
   "cell_type": "code",
   "execution_count": 34,
   "metadata": {},
   "outputs": [
    {
     "data": {
      "text/plain": [
       "(3,)"
      ]
     },
     "execution_count": 34,
     "metadata": {},
     "output_type": "execute_result"
    }
   ],
   "source": [
    "hc['Hospital_region_code'].unique().shape"
   ]
  },
  {
   "cell_type": "markdown",
   "metadata": {},
   "source": [
    "There are 32 hospitals in 3 different regions in the data set."
   ]
  },
  {
   "cell_type": "code",
   "execution_count": 35,
   "metadata": {},
   "outputs": [
    {
     "data": {
      "text/plain": [
       "Department\n",
       "gynecology            40051\n",
       "anesthesia             4858\n",
       "radiotherapy           4589\n",
       "TB & Chest disease     1554\n",
       "surgery                 186\n",
       "Name: count, dtype: int64"
      ]
     },
     "execution_count": 35,
     "metadata": {},
     "output_type": "execute_result"
    }
   ],
   "source": [
    "hc['Department'].value_counts()"
   ]
  },
  {
   "cell_type": "markdown",
   "metadata": {},
   "source": [
    "Most patients are treated in the gynecology department, and 186 patients went under surgery."
   ]
  },
  {
   "cell_type": "code",
   "execution_count": 36,
   "metadata": {},
   "outputs": [
    {
     "data": {
      "text/plain": [
       "Age\n",
       "0-10        993\n",
       "11-20      2783\n",
       "21-30      6664\n",
       "31-40     10300\n",
       "41-50     10067\n",
       "51-60      7861\n",
       "61-70      5357\n",
       "71-80      5730\n",
       "81-90      1269\n",
       "91-100      214\n",
       "Name: count, dtype: int64"
      ]
     },
     "execution_count": 36,
     "metadata": {},
     "output_type": "execute_result"
    }
   ],
   "source": [
    "hc['Age'].value_counts().sort_index()"
   ]
  },
  {
   "cell_type": "markdown",
   "metadata": {},
   "source": [
    "Majority of the patients are adults in their 30s and 40s, and roughly around 1500 whose age is >80."
   ]
  },
  {
   "cell_type": "code",
   "execution_count": 37,
   "metadata": {},
   "outputs": [
    {
     "data": {
      "text/plain": [
       "Type of Admission\n",
       "Trauma       24614\n",
       "Emergency    18889\n",
       "Urgent        7735\n",
       "Name: count, dtype: int64"
      ]
     },
     "execution_count": 37,
     "metadata": {},
     "output_type": "execute_result"
    }
   ],
   "source": [
    "hc['Type of Admission'].value_counts()"
   ]
  },
  {
   "cell_type": "markdown",
   "metadata": {},
   "source": [
    "Half of the patients have trauma related issues. There are 7735 urgent issues recorded."
   ]
  },
  {
   "cell_type": "code",
   "execution_count": 38,
   "metadata": {},
   "outputs": [
    {
     "data": {
      "text/plain": [
       "Severity of Illness\n",
       "Moderate    28248\n",
       "Minor       13844\n",
       "Extreme      9146\n",
       "Name: count, dtype: int64"
      ]
     },
     "execution_count": 38,
     "metadata": {},
     "output_type": "execute_result"
    }
   ],
   "source": [
    "hc['Severity of Illness'].value_counts()"
   ]
  },
  {
   "cell_type": "markdown",
   "metadata": {},
   "source": [
    "Severity was mostly moderate.\n",
    "\n",
    "When a categorical column has too many values, it is difficult to tell the distribution using `value_counts()`. Instead, histograms provide effective visualization. Pandas has a method built in to easily generate histograms."
   ]
  },
  {
   "cell_type": "code",
   "execution_count": 39,
   "metadata": {},
   "outputs": [
    {
     "data": {
      "text/plain": [
       "<Axes: >"
      ]
     },
     "execution_count": 39,
     "metadata": {},
     "output_type": "execute_result"
    },
    {
     "data": {
      "image/png": "[encoded data removed]",
      "text/plain": [
       "<Figure size 640x480 with 1 Axes>"
      ]
     },
     "metadata": {},
     "output_type": "display_data"
    }
   ],
   "source": [
    "hc['Admission_Deposit'].hist()"
   ]
  },
  {
   "cell_type": "markdown",
   "metadata": {},
   "source": [
    "The amount of admission paid ranges between 2000 and 10000 with the median around 5000."
   ]
  },
  {
   "cell_type": "markdown",
   "metadata": {},
   "source": [
    "---"
   ]
  },
  {
   "cell_type": "markdown",
   "metadata": {},
   "source": [
    "## Convert Type to Categorical\n",
    "\n",
    "Categorical variables are coded as `object` if it is not specified."
   ]
  },
  {
   "cell_type": "code",
   "execution_count": 40,
   "metadata": {},
   "outputs": [
    {
     "data": {
      "text/plain": [
       "Unnamed: 0                             int64\n",
       "case_id                                int64\n",
       "Hospital_code                          int64\n",
       "Hospital_type_code                    object\n",
       "City_Code_Hospital                     int64\n",
       "Hospital_region_code                  object\n",
       "Available Extra Rooms in Hospital      int64\n",
       "Department                            object\n",
       "Ward_Type                             object\n",
       "Ward_Facility_Code                    object\n",
       "Bed Grade                            float64\n",
       "patientid                              int64\n",
       "City_Code_Patient                    float64\n",
       "Type of Admission                     object\n",
       "Severity of Illness                   object\n",
       "Visitors with Patient                  int64\n",
       "Age                                   object\n",
       "Admission_Deposit                    float64\n",
       "Stay                                  object\n",
       "dtype: object"
      ]
     },
     "execution_count": 40,
     "metadata": {},
     "output_type": "execute_result"
    }
   ],
   "source": [
    "hc.dtypes"
   ]
  },
  {
   "cell_type": "markdown",
   "metadata": {},
   "source": [
    "You may choose to convert it to `category`. For example, let's convert the __Type of Admission__ column and see how many observations are in each category:"
   ]
  },
  {
   "cell_type": "code",
   "execution_count": 41,
   "metadata": {},
   "outputs": [
    {
     "data": {
      "text/plain": [
       "Type of Admission\n",
       "Trauma       24614\n",
       "Emergency    18889\n",
       "Urgent        7735\n",
       "Name: count, dtype: int64"
      ]
     },
     "execution_count": 41,
     "metadata": {},
     "output_type": "execute_result"
    }
   ],
   "source": [
    "hc['Type of Admission'] = hc['Type of Admission'].astype('category')\n",
    "hc['Type of Admission'].value_counts() "
   ]
  },
  {
   "cell_type": "markdown",
   "metadata": {},
   "source": [
    "Now, let's convert it to categorical:"
   ]
  },
  {
   "cell_type": "markdown",
   "metadata": {},
   "source": [
    ">__Task 1__\n",
    ">\n",
    ">- Identify the categories in the __Hospital_type_code__ column and determine how many are in each category\n",
    ">- Convert the column to `category` and determine how many observations are in each category"
   ]
  },
  {
   "cell_type": "code",
   "execution_count": 43,
   "metadata": {},
   "outputs": [
    {
     "data": {
      "text/plain": [
       "Hospital_type_code\n",
       "a    23032\n",
       "b    11184\n",
       "c     7368\n",
       "e     3928\n",
       "d     3294\n",
       "f     1745\n",
       "g      687\n",
       "Name: count, dtype: int64"
      ]
     },
     "execution_count": 43,
     "metadata": {},
     "output_type": "execute_result"
    }
   ],
   "source": [
    "hc['Hospital_type_code'].unique()\n",
    "hc['Hospital_type_code'].value_counts()"
   ]
  },
  {
   "cell_type": "code",
   "execution_count": 24,
   "metadata": {},
   "outputs": [
    {
     "data": {
      "text/plain": [
       "Hospital_type_code\n",
       "a    23032\n",
       "b    11184\n",
       "c     7368\n",
       "e     3928\n",
       "d     3294\n",
       "f     1745\n",
       "g      687\n",
       "Name: count, dtype: int64"
      ]
     },
     "execution_count": 24,
     "metadata": {},
     "output_type": "execute_result"
    }
   ],
   "source": [
    "hc['Hospital_type_code'] = hc['Hospital_type_code'].astype('category')\n",
    "hc['Hospital_type_code'].value_counts() "
   ]
  },
  {
   "cell_type": "markdown",
   "metadata": {},
   "source": [
    "---"
   ]
  },
  {
   "cell_type": "markdown",
   "metadata": {},
   "source": [
    "## Nominal Data Mapping"
   ]
  },
  {
   "cell_type": "markdown",
   "metadata": {
    "id": "7Nj4HBlZFh9A",
    "tags": []
   },
   "source": [
    "### Label Encoding\n",
    "\n",
    "we use `LabelEncoder` from the scikit-learn library to assign a distinct integer to each category. For example, we can map the __Type of Admission__ column to numeric values:"
   ]
  },
  {
   "cell_type": "code",
   "execution_count": 44,
   "metadata": {},
   "outputs": [
    {
     "data": {
      "text/plain": [
       "0    Emergency\n",
       "1    Emergency\n",
       "2       Trauma\n",
       "3       Urgent\n",
       "4       Trauma\n",
       "Name: Type of Admission, dtype: category\n",
       "Categories (3, object): ['Emergency', 'Trauma', 'Urgent']"
      ]
     },
     "execution_count": 44,
     "metadata": {},
     "output_type": "execute_result"
    }
   ],
   "source": [
    "hc['Type of Admission'].head()"
   ]
  },
  {
   "cell_type": "code",
   "execution_count": 46,
   "metadata": {
    "colab": {
     "base_uri": "https://localhost:8080/"
    },
    "id": "9z61kZlCFlqD",
    "outputId": "abaafac7-8ba7-424f-e280-09cb885dc2f6"
   },
   "outputs": [
    {
     "data": {
      "text/plain": [
       "array([0, 0, 1, ..., 0, 1, 1])"
      ]
     },
     "execution_count": 46,
     "metadata": {},
     "output_type": "execute_result"
    }
   ],
   "source": [
    "from sklearn.preprocessing import LabelEncoder\n",
    "\n",
    "# Initiate the encoder\n",
    "enc = LabelEncoder()\n",
    "\n",
    "# Apply enc.fit_transform method\n",
    "enc.fit_transform(hc['Type of Admission'])"
   ]
  },
  {
   "cell_type": "code",
   "execution_count": 49,
   "metadata": {},
   "outputs": [
    {
     "data": {
      "text/plain": [
       "CategoricalDtype(categories=['Emergency', 'Trauma', 'Urgent'], ordered=False, categories_dtype=object)"
      ]
     },
     "execution_count": 49,
     "metadata": {},
     "output_type": "execute_result"
    }
   ],
   "source": [
    "hc['Type of Admission'].dtypes"
   ]
  },
  {
   "cell_type": "markdown",
   "metadata": {},
   "source": [
    "To convert the numbers back to string categories, we use the `inverse_transform()` method:"
   ]
  },
  {
   "cell_type": "code",
   "execution_count": 50,
   "metadata": {},
   "outputs": [
    {
     "data": {
      "text/plain": [
       "array(['Trauma', 'Trauma', 'Emergency', 'Urgent', 'Emergency', 'Trauma'],\n",
       "      dtype=object)"
      ]
     },
     "execution_count": 50,
     "metadata": {},
     "output_type": "execute_result"
    }
   ],
   "source": [
    "# create a result vector that our ML analysis could yield\n",
    "result = np.array([1,1,0,2,0,1])\n",
    "\n",
    "# Transform back\n",
    "enc.inverse_transform(result)"
   ]
  },
  {
   "cell_type": "markdown",
   "metadata": {},
   "source": [
    ">__Task 2__\n",
    ">\n",
    ">- Encode the __Department__ to numbers using `LabelEncoder`\n",
    ">- Print the status corresponding to the label array `np.array([0,1,1,4,3,2])`, using `inverse_transform`"
   ]
  },
  {
   "cell_type": "code",
   "execution_count": 54,
   "metadata": {},
   "outputs": [
    {
     "data": {
      "text/plain": [
       "Department\n",
       "gynecology            40051\n",
       "anesthesia             4858\n",
       "radiotherapy           4589\n",
       "TB & Chest disease     1554\n",
       "surgery                 186\n",
       "Name: count, dtype: int64"
      ]
     },
     "execution_count": 54,
     "metadata": {},
     "output_type": "execute_result"
    }
   ],
   "source": [
    "hc['Department'].value_counts()"
   ]
  },
  {
   "cell_type": "code",
   "execution_count": 55,
   "metadata": {},
   "outputs": [
    {
     "data": {
      "text/plain": [
       "array(['anesthesia', 'anesthesia', 'TB & Chest disease', 'gynecology',\n",
       "       'radiotherapy', 'anesthesia'], dtype=object)"
      ]
     },
     "execution_count": 55,
     "metadata": {},
     "output_type": "execute_result"
    }
   ],
   "source": [
    "# Initiate the encoder\n",
    "enc = LabelEncoder()\n",
    "\n",
    "# Apply enc.fit_transform method\n",
    "enc.fit_transform(hc['Department'])\n",
    "\n",
    "# Create a result vector that our ML analysis could yield\n",
    "result = np.array([1,1,0,2,3,1])\n",
    "\n",
    "# Transform back\n",
    "enc.inverse_transform(result)"
   ]
  },
  {
   "cell_type": "markdown",
   "metadata": {
    "id": "vcNzeYecEsST"
   },
   "source": [
    "### One-Hot Encoding\n",
    "\n",
    "`OneHotEncoder` works similarly as `LabelEncoder` with subtle differences about how to initiate and transform. Instead of `pd.Series` object, __it takes `pd.DataFrame` as input__. So, you need to pass `df[['varName']]`."
   ]
  },
  {
   "cell_type": "markdown",
   "metadata": {},
   "source": [
    ">__Task 3__\n",
    ">\n",
    ">Convert the __Type of Admission__ column to one-hot vectors using `OneHotEncoder`"
   ]
  },
  {
   "cell_type": "code",
   "execution_count": 56,
   "metadata": {},
   "outputs": [
    {
     "data": {
      "text/html": [
       "<div>\n",
       "<style scoped>\n",
       "    .dataframe tbody tr th:only-of-type {\n",
       "        vertical-align: middle;\n",
       "    }\n",
       "\n",
       "    .dataframe tbody tr th {\n",
       "        vertical-align: top;\n",
       "    }\n",
       "\n",
       "    .dataframe thead th {\n",
       "        text-align: right;\n",
       "    }\n",
       "</style>\n",
       "<table border=\"1\" class=\"dataframe\">\n",
       "  <thead>\n",
       "    <tr style=\"text-align: right;\">\n",
       "      <th></th>\n",
       "      <th>Type of Admission</th>\n",
       "    </tr>\n",
       "  </thead>\n",
       "  <tbody>\n",
       "    <tr>\n",
       "      <th>0</th>\n",
       "      <td>Emergency</td>\n",
       "    </tr>\n",
       "    <tr>\n",
       "      <th>1</th>\n",
       "      <td>Emergency</td>\n",
       "    </tr>\n",
       "    <tr>\n",
       "      <th>2</th>\n",
       "      <td>Trauma</td>\n",
       "    </tr>\n",
       "    <tr>\n",
       "      <th>3</th>\n",
       "      <td>Urgent</td>\n",
       "    </tr>\n",
       "    <tr>\n",
       "      <th>4</th>\n",
       "      <td>Trauma</td>\n",
       "    </tr>\n",
       "  </tbody>\n",
       "</table>\n",
       "</div>"
      ],
      "text/plain": [
       "  Type of Admission\n",
       "0         Emergency\n",
       "1         Emergency\n",
       "2            Trauma\n",
       "3            Urgent\n",
       "4            Trauma"
      ]
     },
     "execution_count": 56,
     "metadata": {},
     "output_type": "execute_result"
    }
   ],
   "source": [
    "hc[['Type of Admission']].head()"
   ]
  },
  {
   "cell_type": "code",
   "execution_count": 65,
   "metadata": {
    "colab": {
     "base_uri": "https://localhost:8080/"
    },
    "id": "cmmm9A4CFuCW",
    "outputId": "10e0489f-c2f9-4f49-95bc-c346c358d82c"
   },
   "outputs": [],
   "source": [
    "from sklearn.preprocessing import OneHotEncoder\n",
    "ohe = OneHotEncoder()\n"
   ]
  },
  {
   "cell_type": "code",
   "execution_count": 66,
   "metadata": {},
   "outputs": [
    {
     "data": {
      "text/plain": [
       "array([[1., 0., 0.],\n",
       "       [1., 0., 0.],\n",
       "       [0., 1., 0.],\n",
       "       ...,\n",
       "       [1., 0., 0.],\n",
       "       [0., 1., 0.],\n",
       "       [0., 1., 0.]])"
      ]
     },
     "execution_count": 66,
     "metadata": {},
     "output_type": "execute_result"
    }
   ],
   "source": [
    "\n",
    "# Initiate the encoder\n",
    "\n",
    "# array = ohe.fit_transform(hc[['Type of Admission']]) \n",
    "array = ohe.fit_transform(hc[['Type of Admission']]).toarray()\n",
    "\n",
    "array\n",
    "\n",
    "# ..."
   ]
  },
  {
   "cell_type": "markdown",
   "metadata": {},
   "source": [
    "Similarly, we can also use the `inverse_transform()` method to revert the data."
   ]
  },
  {
   "cell_type": "markdown",
   "metadata": {},
   "source": [
    ">__Task 4__\n",
    ">\n",
    "<!-- >Decode the below vector back to categories using `inverse_transform` -->\n",
    ">\n",
    ">`np.array([[0,1,0], [0,1,0], [0,0,1], [1,0,0], [0,0,1]])`"
   ]
  },
  {
   "cell_type": "code",
   "execution_count": 70,
   "metadata": {},
   "outputs": [
    {
     "data": {
      "text/plain": [
       "array([['Trauma'],\n",
       "       ['Trauma'],\n",
       "       ['Urgent'],\n",
       "       ['Emergency'],\n",
       "       ['Urgent']], dtype=object)"
      ]
     },
     "execution_count": 70,
     "metadata": {},
     "output_type": "execute_result"
    }
   ],
   "source": [
    "# create a result vector that our ML analysis could yield\n",
    "inver_example = np.array([[0,1,0], [0,1,0], [0,0,1], [1,0,0], [0,0,1]])\n",
    "\n",
    "# Transform back\n",
    "ohe.inverse_transform(inver_example)"
   ]
  },
  {
   "cell_type": "markdown",
   "metadata": {},
   "source": [
    "### Dummy Variables\n",
    "\n",
    "Alternatively, we can use Pandas `get_dummies` to convert categorical variables to one-hot vectors."
   ]
  },
  {
   "cell_type": "markdown",
   "metadata": {},
   "source": [
    ">__Task 5__\n",
    ">\n",
    ">Convert the __Department__ column to one-hot vectors using `get_dummies`"
   ]
  },
  {
   "cell_type": "code",
   "execution_count": 71,
   "metadata": {
    "colab": {
     "base_uri": "https://localhost:8080/",
     "height": 540
    },
    "id": "ve3q1Sn6v5lv",
    "outputId": "a5c22524-255e-4e82-9ea1-e45e6cc1cc5e"
   },
   "outputs": [
    {
     "data": {
      "text/html": [
       "<div>\n",
       "<style scoped>\n",
       "    .dataframe tbody tr th:only-of-type {\n",
       "        vertical-align: middle;\n",
       "    }\n",
       "\n",
       "    .dataframe tbody tr th {\n",
       "        vertical-align: top;\n",
       "    }\n",
       "\n",
       "    .dataframe thead th {\n",
       "        text-align: right;\n",
       "    }\n",
       "</style>\n",
       "<table border=\"1\" class=\"dataframe\">\n",
       "  <thead>\n",
       "    <tr style=\"text-align: right;\">\n",
       "      <th></th>\n",
       "      <th>dummy_TB &amp; Chest disease</th>\n",
       "      <th>dummy_anesthesia</th>\n",
       "      <th>dummy_gynecology</th>\n",
       "      <th>dummy_radiotherapy</th>\n",
       "      <th>dummy_surgery</th>\n",
       "    </tr>\n",
       "  </thead>\n",
       "  <tbody>\n",
       "    <tr>\n",
       "      <th>0</th>\n",
       "      <td>False</td>\n",
       "      <td>False</td>\n",
       "      <td>True</td>\n",
       "      <td>False</td>\n",
       "      <td>False</td>\n",
       "    </tr>\n",
       "    <tr>\n",
       "      <th>1</th>\n",
       "      <td>False</td>\n",
       "      <td>False</td>\n",
       "      <td>True</td>\n",
       "      <td>False</td>\n",
       "      <td>False</td>\n",
       "    </tr>\n",
       "    <tr>\n",
       "      <th>2</th>\n",
       "      <td>False</td>\n",
       "      <td>False</td>\n",
       "      <td>True</td>\n",
       "      <td>False</td>\n",
       "      <td>False</td>\n",
       "    </tr>\n",
       "    <tr>\n",
       "      <th>3</th>\n",
       "      <td>False</td>\n",
       "      <td>True</td>\n",
       "      <td>False</td>\n",
       "      <td>False</td>\n",
       "      <td>False</td>\n",
       "    </tr>\n",
       "    <tr>\n",
       "      <th>4</th>\n",
       "      <td>False</td>\n",
       "      <td>False</td>\n",
       "      <td>True</td>\n",
       "      <td>False</td>\n",
       "      <td>False</td>\n",
       "    </tr>\n",
       "    <tr>\n",
       "      <th>...</th>\n",
       "      <td>...</td>\n",
       "      <td>...</td>\n",
       "      <td>...</td>\n",
       "      <td>...</td>\n",
       "      <td>...</td>\n",
       "    </tr>\n",
       "    <tr>\n",
       "      <th>51233</th>\n",
       "      <td>False</td>\n",
       "      <td>False</td>\n",
       "      <td>True</td>\n",
       "      <td>False</td>\n",
       "      <td>False</td>\n",
       "    </tr>\n",
       "    <tr>\n",
       "      <th>51234</th>\n",
       "      <td>False</td>\n",
       "      <td>False</td>\n",
       "      <td>True</td>\n",
       "      <td>False</td>\n",
       "      <td>False</td>\n",
       "    </tr>\n",
       "    <tr>\n",
       "      <th>51235</th>\n",
       "      <td>False</td>\n",
       "      <td>False</td>\n",
       "      <td>True</td>\n",
       "      <td>False</td>\n",
       "      <td>False</td>\n",
       "    </tr>\n",
       "    <tr>\n",
       "      <th>51236</th>\n",
       "      <td>False</td>\n",
       "      <td>False</td>\n",
       "      <td>True</td>\n",
       "      <td>False</td>\n",
       "      <td>False</td>\n",
       "    </tr>\n",
       "    <tr>\n",
       "      <th>51237</th>\n",
       "      <td>True</td>\n",
       "      <td>False</td>\n",
       "      <td>False</td>\n",
       "      <td>False</td>\n",
       "      <td>False</td>\n",
       "    </tr>\n",
       "  </tbody>\n",
       "</table>\n",
       "<p>51238 rows × 5 columns</p>\n",
       "</div>"
      ],
      "text/plain": [
       "       dummy_TB & Chest disease  dummy_anesthesia  dummy_gynecology  \\\n",
       "0                         False             False              True   \n",
       "1                         False             False              True   \n",
       "2                         False             False              True   \n",
       "3                         False              True             False   \n",
       "4                         False             False              True   \n",
       "...                         ...               ...               ...   \n",
       "51233                     False             False              True   \n",
       "51234                     False             False              True   \n",
       "51235                     False             False              True   \n",
       "51236                     False             False              True   \n",
       "51237                      True             False             False   \n",
       "\n",
       "       dummy_radiotherapy  dummy_surgery  \n",
       "0                   False          False  \n",
       "1                   False          False  \n",
       "2                   False          False  \n",
       "3                   False          False  \n",
       "4                   False          False  \n",
       "...                   ...            ...  \n",
       "51233               False          False  \n",
       "51234               False          False  \n",
       "51235               False          False  \n",
       "51236               False          False  \n",
       "51237               False          False  \n",
       "\n",
       "[51238 rows x 5 columns]"
      ]
     },
     "execution_count": 71,
     "metadata": {},
     "output_type": "execute_result"
    }
   ],
   "source": [
    "pd.get_dummies(hc[\"Department\"], prefix= 'dummy')"
   ]
  },
  {
   "cell_type": "markdown",
   "metadata": {},
   "source": [
    "---"
   ]
  },
  {
   "cell_type": "markdown",
   "metadata": {
    "id": "Wq1GSEyM13sD"
   },
   "source": [
    "## Ordinal Data Mapping"
   ]
  },
  {
   "cell_type": "markdown",
   "metadata": {},
   "source": [
    ">__Task 6__\n",
    ">\n",
    ">Use a dictionary to convert ordinal variables to numbers in the __Severity of Illness__ column\n",
    ">\n",
    ">- Create a dictionary that maps \"Extreme\" to 2, \"Moderate\" to 1 and \"Minor\" to 0\n",
    ">- Map the categories to numeric labels using `replace(dict)`"
   ]
  },
  {
   "cell_type": "code",
   "execution_count": 73,
   "metadata": {
    "colab": {
     "base_uri": "https://localhost:8080/"
    },
    "id": "UMGHumjL2CjW",
    "outputId": "35f48091-89b7-4daa-ca4c-2c733e6efe31"
   },
   "outputs": [
    {
     "data": {
      "text/plain": [
       "array(['Minor', 'Extreme', 'Moderate'], dtype=object)"
      ]
     },
     "execution_count": 73,
     "metadata": {},
     "output_type": "execute_result"
    }
   ],
   "source": [
    "hc['Severity of Illness'].unique()"
   ]
  },
  {
   "cell_type": "code",
   "execution_count": 74,
   "metadata": {},
   "outputs": [],
   "source": [
    "mapDict = {'Minor' : 0, 'Extreme': 2, 'Moderate': 1}"
   ]
  },
  {
   "cell_type": "code",
   "execution_count": 76,
   "metadata": {},
   "outputs": [
    {
     "data": {
      "text/plain": [
       "0        0\n",
       "1        2\n",
       "2        1\n",
       "3        2\n",
       "4        1\n",
       "        ..\n",
       "51233    0\n",
       "51234    1\n",
       "51235    1\n",
       "51236    0\n",
       "51237    2\n",
       "Name: Severity of Illness, Length: 51238, dtype: int64"
      ]
     },
     "execution_count": 76,
     "metadata": {},
     "output_type": "execute_result"
    }
   ],
   "source": [
    "hc['Severity of Illness'] = hc['Severity of Illness'].replace(mapDict)\n",
    "hc['Severity of Illness'] "
   ]
  },
  {
   "cell_type": "markdown",
   "metadata": {},
   "source": [
    "Now, let's assume we want to construct the original data back from the numeric variables."
   ]
  },
  {
   "cell_type": "markdown",
   "metadata": {},
   "source": [
    ">__Task 7__\n",
    ">\n",
    ">- Reverse the map dictionary using a `for` loop\n",
    ">- Apply the same procedure using this reverse map"
   ]
  },
  {
   "cell_type": "code",
   "execution_count": 85,
   "metadata": {},
   "outputs": [],
   "source": [
    "# Reversed map dictionary\n",
    "mapDict_inv = {v: k for k, v in mapDict.items()}"
   ]
  },
  {
   "cell_type": "code",
   "execution_count": 86,
   "metadata": {},
   "outputs": [
    {
     "data": {
      "text/plain": [
       "0           Minor\n",
       "1         Extreme\n",
       "2        Moderate\n",
       "3         Extreme\n",
       "4        Moderate\n",
       "           ...   \n",
       "51233       Minor\n",
       "51234    Moderate\n",
       "51235    Moderate\n",
       "51236       Minor\n",
       "51237     Extreme\n",
       "Name: Severity of Illness, Length: 51238, dtype: object"
      ]
     },
     "execution_count": 86,
     "metadata": {},
     "output_type": "execute_result"
    }
   ],
   "source": [
    "hc['Severity of Illness'] = hc['Severity of Illness'].replace(mapDict_inv)\n",
    "hc['Severity of Illness'] "
   ]
  },
  {
   "cell_type": "code",
   "execution_count": 31,
   "metadata": {},
   "outputs": [],
   "source": [
    "..."
   ]
  },
  {
   "cell_type": "markdown",
   "metadata": {},
   "source": [
    "An alternative is to use the `map()` method:"
   ]
  },
  {
   "cell_type": "code",
   "execution_count": 87,
   "metadata": {},
   "outputs": [
    {
     "data": {
      "text/plain": [
       "0        NaN\n",
       "1        NaN\n",
       "2        NaN\n",
       "3        NaN\n",
       "4        NaN\n",
       "        ... \n",
       "51233    NaN\n",
       "51234    NaN\n",
       "51235    NaN\n",
       "51236    NaN\n",
       "51237    NaN\n",
       "Name: Severity of Illness, Length: 51238, dtype: object"
      ]
     },
     "execution_count": 87,
     "metadata": {},
     "output_type": "execute_result"
    }
   ],
   "source": [
    "hc[\"Severity of Illness\"].map(mapDict_inv)"
   ]
  },
  {
   "cell_type": "markdown",
   "metadata": {},
   "source": [
    "---"
   ]
  },
  {
   "cell_type": "markdown",
   "metadata": {},
   "source": [
    "## Convert Numeric to Categorical\n",
    "\n",
    "Sometimes, we have numeric variables that would be more meaningful if they were put into categories using some thresholds. For example, the __Admission_Deposit__ column is a continuous numeric variable for the amount paid to the hospital."
   ]
  },
  {
   "cell_type": "code",
   "execution_count": 88,
   "metadata": {},
   "outputs": [
    {
     "data": {
      "text/plain": [
       "<Axes: >"
      ]
     },
     "execution_count": 88,
     "metadata": {},
     "output_type": "execute_result"
    },
    {
     "data": {
      "image/png": "[encoded data removed]",
      "text/plain": [
       "<Figure size 640x480 with 1 Axes>"
      ]
     },
     "metadata": {},
     "output_type": "display_data"
    }
   ],
   "source": [
    "hc['Admission_Deposit'].hist()"
   ]
  },
  {
   "cell_type": "markdown",
   "metadata": {},
   "source": [
    "We will now create three categories:\n",
    "- 0 to 3000: low, \n",
    "- 3001 to 7000: moderate\n",
    "- 7001 and above (maximum value) : expensive\n",
    "\n",
    "To this end, we will \n",
    "\n",
    "1. Create a list of the thresholds or `buckets`\n",
    "    - Find the maximum value using `max()`\n",
    "2. Convert to a categorical variable using `pd.cut()`\n",
    "2. Convert the categorical variable to one-hot vectors using `pd.get_dummies()`"
   ]
  },
  {
   "cell_type": "code",
   "execution_count": 89,
   "metadata": {},
   "outputs": [
    {
     "data": {
      "text/plain": [
       "0        (3000.0, 7000.0]\n",
       "1        (3000.0, 7000.0]\n",
       "2        (3000.0, 7000.0]\n",
       "3        (3000.0, 7000.0]\n",
       "4        (3000.0, 7000.0]\n",
       "               ...       \n",
       "51233    (3000.0, 7000.0]\n",
       "51234    (3000.0, 7000.0]\n",
       "51235    (3000.0, 7000.0]\n",
       "51236    (3000.0, 7000.0]\n",
       "51237    (3000.0, 7000.0]\n",
       "Name: Admission_Deposit_categ, Length: 51238, dtype: category\n",
       "Categories (3, interval[float64, right]): [(0.0, 3000.0] < (3000.0, 7000.0] < (7000.0, 10842.0]]"
      ]
     },
     "execution_count": 89,
     "metadata": {},
     "output_type": "execute_result"
    }
   ],
   "source": [
    "maxVal  = hc['Admission_Deposit'].max()\n",
    "buckets = [0,3000,7000,maxVal]\n",
    "\n",
    "hc['Admission_Deposit_categ'] = pd.cut(hc['Admission_Deposit'],buckets)\n",
    "hc['Admission_Deposit_categ']"
   ]
  },
  {
   "cell_type": "code",
   "execution_count": 90,
   "metadata": {},
   "outputs": [
    {
     "data": {
      "text/html": [
       "<div>\n",
       "<style scoped>\n",
       "    .dataframe tbody tr th:only-of-type {\n",
       "        vertical-align: middle;\n",
       "    }\n",
       "\n",
       "    .dataframe tbody tr th {\n",
       "        vertical-align: top;\n",
       "    }\n",
       "\n",
       "    .dataframe thead th {\n",
       "        text-align: right;\n",
       "    }\n",
       "</style>\n",
       "<table border=\"1\" class=\"dataframe\">\n",
       "  <thead>\n",
       "    <tr style=\"text-align: right;\">\n",
       "      <th></th>\n",
       "      <th>(0.0, 3000.0]</th>\n",
       "      <th>(3000.0, 7000.0]</th>\n",
       "      <th>(7000.0, 10842.0]</th>\n",
       "    </tr>\n",
       "  </thead>\n",
       "  <tbody>\n",
       "    <tr>\n",
       "      <th>0</th>\n",
       "      <td>False</td>\n",
       "      <td>True</td>\n",
       "      <td>False</td>\n",
       "    </tr>\n",
       "    <tr>\n",
       "      <th>1</th>\n",
       "      <td>False</td>\n",
       "      <td>True</td>\n",
       "      <td>False</td>\n",
       "    </tr>\n",
       "    <tr>\n",
       "      <th>2</th>\n",
       "      <td>False</td>\n",
       "      <td>True</td>\n",
       "      <td>False</td>\n",
       "    </tr>\n",
       "    <tr>\n",
       "      <th>3</th>\n",
       "      <td>False</td>\n",
       "      <td>True</td>\n",
       "      <td>False</td>\n",
       "    </tr>\n",
       "    <tr>\n",
       "      <th>4</th>\n",
       "      <td>False</td>\n",
       "      <td>True</td>\n",
       "      <td>False</td>\n",
       "    </tr>\n",
       "    <tr>\n",
       "      <th>...</th>\n",
       "      <td>...</td>\n",
       "      <td>...</td>\n",
       "      <td>...</td>\n",
       "    </tr>\n",
       "    <tr>\n",
       "      <th>51233</th>\n",
       "      <td>False</td>\n",
       "      <td>True</td>\n",
       "      <td>False</td>\n",
       "    </tr>\n",
       "    <tr>\n",
       "      <th>51234</th>\n",
       "      <td>False</td>\n",
       "      <td>True</td>\n",
       "      <td>False</td>\n",
       "    </tr>\n",
       "    <tr>\n",
       "      <th>51235</th>\n",
       "      <td>False</td>\n",
       "      <td>True</td>\n",
       "      <td>False</td>\n",
       "    </tr>\n",
       "    <tr>\n",
       "      <th>51236</th>\n",
       "      <td>False</td>\n",
       "      <td>True</td>\n",
       "      <td>False</td>\n",
       "    </tr>\n",
       "    <tr>\n",
       "      <th>51237</th>\n",
       "      <td>False</td>\n",
       "      <td>True</td>\n",
       "      <td>False</td>\n",
       "    </tr>\n",
       "  </tbody>\n",
       "</table>\n",
       "<p>51238 rows × 3 columns</p>\n",
       "</div>"
      ],
      "text/plain": [
       "       (0.0, 3000.0]  (3000.0, 7000.0]  (7000.0, 10842.0]\n",
       "0              False              True              False\n",
       "1              False              True              False\n",
       "2              False              True              False\n",
       "3              False              True              False\n",
       "4              False              True              False\n",
       "...              ...               ...                ...\n",
       "51233          False              True              False\n",
       "51234          False              True              False\n",
       "51235          False              True              False\n",
       "51236          False              True              False\n",
       "51237          False              True              False\n",
       "\n",
       "[51238 rows x 3 columns]"
      ]
     },
     "execution_count": 90,
     "metadata": {},
     "output_type": "execute_result"
    }
   ],
   "source": [
    "pd.get_dummies(hc['Admission_Deposit_categ'])"
   ]
  }
 ],
 "metadata": {
  "colab": {
   "collapsed_sections": [],
   "name": "2.d.ipynb",
   "provenance": []
  },
  "kernelspec": {
   "display_name": "Python 3",
   "language": "python",
   "name": "python3"
  },
  "language_info": {
   "codemirror_mode": {
    "name": "ipython",
    "version": 3
   },
   "file_extension": ".py",
   "mimetype": "text/x-python",
   "name": "python",
   "nbconvert_exporter": "python",
   "pygments_lexer": "ipython3",
   "version": "3.12.4"
  }
 },
 "nbformat": 4,
 "nbformat_minor": 4
}
